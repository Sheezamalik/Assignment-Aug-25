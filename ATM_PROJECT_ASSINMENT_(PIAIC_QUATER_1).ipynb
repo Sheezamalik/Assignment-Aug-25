{
  "nbformat": 4,
  "nbformat_minor": 0,
  "metadata": {
    "colab": {
      "provenance": [],
      "authorship_tag": "ABX9TyPgFULmYifZ3S3jrJOnKw4N",
      "include_colab_link": true
    },
    "kernelspec": {
      "name": "python3",
      "display_name": "Python 3"
    },
    "language_info": {
      "name": "python"
    }
  },
  "cells": [
    {
      "cell_type": "markdown",
      "metadata": {
        "id": "view-in-github",
        "colab_type": "text"
      },
      "source": [
        "<a href=\"https://colab.research.google.com/github/Sheezamalik/Assignment-Aug-25/blob/main/ATM_PROJECT_ASSINMENT_(PIAIC_QUATER_1).ipynb\" target=\"_parent\"><img src=\"https://colab.research.google.com/assets/colab-badge.svg\" alt=\"Open In Colab\"/></a>"
      ]
    },
    {
      "cell_type": "markdown",
      "source": [
        "# New Section"
      ],
      "metadata": {
        "id": "eEs0pssvgK_P"
      }
    },
    {
      "cell_type": "markdown",
      "source": [
        "PIAIC FIRST PROJECT\n",
        "ATM PROJECT\n",
        "\n"
      ],
      "metadata": {
        "id": "Yw1nnkGdgOgc"
      }
    },
    {
      "cell_type": "code",
      "source": [
        "uernameindb = \"sheeza tanveer\"\n",
        "pinindb= 1234\n",
        "total_balance = 10000\n",
        "#INPUT FROM USER\n",
        "username = input(\"  Enter your username  \")\n",
        "if username == uernameindb:\n",
        "  print(\"username is correct\")\n",
        "else:\n",
        "  print(\"incorrect username\")\n",
        "  #PIN INPUT\n",
        "pin = input(\"enter your 4-digits pin\")\n",
        "if len(pin) == 4 and pin.isdigit():\n",
        "  if pin ==pinindb:\n",
        "    print(\"pin is correct\")\n",
        "    #TASK PERFORM\n",
        "  else:\n",
        "    print(\"incorrect pin\")\n",
        "    print(\"you can perform following task which is you want\")\n",
        "    print(\"1)cash withdraw\")\n",
        "    print(\"2)fast cash withdraw\")\n",
        "    print(\"3)current balance\")\n",
        "    task = input(\"enter your task 1,2,3\")\n",
        "\n",
        "    #task1 cash withdraw\n",
        "    if task == \"1\":\n",
        "       withdraw= int (input(\"enter your amount you want to withdraw\"))\n",
        "       if withdraw<=total_balance:\n",
        "        total_balance -= withdraw\n",
        "        print(f\"You have successfully withdrawn {withdraw}. Your remaining balance is {total_balance}.\")\n",
        "else:\n",
        "    print(\"Insufficient balance.\")\n",
        "  #task2 fast cash withdraw\n",
        "if task == \"2\":\n",
        "  print(\"fast cash options 5000,6000 ,4000,3000\")\n",
        "  fast_cash = int(input(\"enter your amount\"))\n",
        "  if fast_cash<= total_balance:\n",
        "      total_balance -= fast_cash\n",
        "      print(f\"You have successfully withdrawn {fast_cash}. Your remaining balance is {total_balance}.\")\n",
        "  else:\n",
        "   print(\"Insufficient balance.\")\n",
        "      #task3 current balance\n",
        "   if task == \"3\":\n",
        "      print(f\"Your current balance is {total_balance}.\")\n",
        "\n",
        "\n",
        "\n",
        "\n",
        "\n"
      ],
      "metadata": {
        "colab": {
          "base_uri": "https://localhost:8080/"
        },
        "id": "H9h7WJo4gqTx",
        "outputId": "dae845e4-44ee-4dc1-9db0-e18303fd77c6"
      },
      "execution_count": 36,
      "outputs": [
        {
          "output_type": "stream",
          "name": "stdout",
          "text": [
            "  Enter your username  sheeza tanveer\n",
            "username is correct\n",
            "enter your 4-digits pin1234\n",
            "incorrect pin\n",
            "you can perform following task which is you want\n",
            "1)cash withdraw\n",
            "2)fast cash withdraw\n",
            "3)current balance\n",
            "enter your task 1,2,32\n",
            "fast cash options 5000,6000 ,4000,3000\n",
            "enter your amount3000\n",
            "You have successfully withdrawn 3000. Your remaining balance is 7000.\n"
          ]
        }
      ]
    }
  ]
}