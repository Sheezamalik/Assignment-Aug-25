{
  "nbformat": 4,
  "nbformat_minor": 0,
  "metadata": {
    "colab": {
      "provenance": [],
      "authorship_tag": "ABX9TyOBN7blKEbIaNYfBFYgT3Pm",
      "include_colab_link": true
    },
    "kernelspec": {
      "name": "python3",
      "display_name": "Python 3"
    },
    "language_info": {
      "name": "python"
    }
  },
  "cells": [
    {
      "cell_type": "markdown",
      "metadata": {
        "id": "view-in-github",
        "colab_type": "text"
      },
      "source": [
        "<a href=\"https://colab.research.google.com/github/Sheezamalik/Assignment-Aug-25/blob/main/ASSHIMGMENT_1_PIAIC_(QUATER_1).ipynb\" target=\"_parent\"><img src=\"https://colab.research.google.com/assets/colab-badge.svg\" alt=\"Open In Colab\"/></a>"
      ]
    },
    {
      "cell_type": "code",
      "execution_count": 23,
      "metadata": {
        "colab": {
          "base_uri": "https://localhost:8080/"
        },
        "id": "lHtJ1IYWkwY2",
        "outputId": "6017f490-794f-426f-cedc-b9fe8149820c"
      },
      "outputs": [
        {
          "output_type": "stream",
          "name": "stdout",
          "text": [
            "Enter a number: 0\n",
            "The number is even.\n",
            "The number is zero.\n",
            "The number is divisible by both 2 and 3.\n"
          ]
        }
      ],
      "source": [
        "#check number even or odd\n",
        "num = int(input(\"Enter a number: \"))\n",
        "if num % 2 == 0:\n",
        "  print(\"The number is even.\")\n",
        "else:\n",
        "     print(\"The number is odd.\")\n",
        "\n",
        "#positive negative and zero\n",
        "if num > 0:\n",
        "   print(\"The number is positive.\")\n",
        "elif num < 0:\n",
        "   print(\"The number is negative.\")\n",
        "else:\n",
        "    print(\"The number is zero.\")\n",
        "\n",
        "    #divisbile by both 2 and 3\n",
        "if num % 2 == 0 and num % 3 == 0:\n",
        "       print(\"The number is divisible by both 2 and 3.\")\n",
        "elif num % 2 == 0:\n",
        "      print(\"The number is divisible by 2.\")\n",
        "elif num % 3 == 0:\n",
        "     print(\"the number is divisbe by 3.\")\n",
        "else:\n",
        "    print(\"The number is not divisible by 2 or 3.\")\n",
        "\n",
        "\n"
      ]
    },
    {
      "cell_type": "code",
      "source": [
        "#AGE nationality for vote\n",
        "age = int (input(\"enter your age\"))\n",
        "if age >=18:\n",
        "  print(\"you have nationallity for vote? (yes or not)\")\n",
        "  if input() == \"yes\":\n",
        "   print(\"you are eligible to vote\")\n",
        "  else:\n",
        "    print(\"you are not eligible to vote\")\n",
        "else:\n",
        "  print(\"you are not eligible to vote\")\n"
      ],
      "metadata": {
        "colab": {
          "base_uri": "https://localhost:8080/"
        },
        "id": "71gfl8LNLIEH",
        "outputId": "6015dfa3-d36d-4df0-c4e1-4d95698c2d6d"
      },
      "execution_count": 26,
      "outputs": [
        {
          "output_type": "stream",
          "name": "stdout",
          "text": [
            "enter your age56\n",
            "you have nationallity for vote? (yes or not)\n",
            "no\n",
            "you are not eligible to vote\n"
          ]
        }
      ]
    },
    {
      "cell_type": "code",
      "source": [
        "# Determine age group\n",
        "age = int(input(\"Enter your age: \"))\n",
        "if age<=12:\n",
        "  print(\"you are child\")\n",
        "elif age<=19:\n",
        "    print(\"you are teenager\")\n",
        "elif age<=59:\n",
        "    print(\"you are adult\")\n",
        "elif age >=60:\n",
        "    print(\"you are senior citizen\")\n",
        "else:\n",
        "    print(\"invalid age\")\n"
      ],
      "metadata": {
        "colab": {
          "base_uri": "https://localhost:8080/"
        },
        "id": "nNWaBucqURai",
        "outputId": "aeeb9d9d-39a9-4a71-b0b9-fd47eb325baa"
      },
      "execution_count": 37,
      "outputs": [
        {
          "output_type": "stream",
          "name": "stdout",
          "text": [
            "Enter your age: 60\n",
            "you are senior citizen\n"
          ]
        }
      ]
    },
    {
      "cell_type": "code",
      "source": [
        "#evalutes the grades of student\n",
        "marks = int(input(\"enter your marks\"))\n",
        "if marks>=80:\n",
        " print(\"your grade A\")\n",
        "elif marks>=70:\n",
        "  print(\"your grade  b\")\n",
        "elif marks>=60:\n",
        "    print(\"you grade c\")\n",
        "elif marks>=50:\n",
        "   print(\"you grade d\")\n",
        "else:\n",
        "    print(\"you grade f\")"
      ],
      "metadata": {
        "colab": {
          "base_uri": "https://localhost:8080/"
        },
        "id": "xveJUgbYYNKo",
        "outputId": "2440e630-d782-4b12-e275-ed7639c3a057"
      },
      "execution_count": 42,
      "outputs": [
        {
          "output_type": "stream",
          "name": "stdout",
          "text": [
            "enter your marks56\n",
            "you grade d\n"
          ]
        }
      ]
    },
    {
      "cell_type": "code",
      "source": [
        "#bill calculate by units consumer number\n",
        "units = int (input(\"enter your unite number\"))\n",
        "if units >=100:\n",
        " print(\"add 10% tex\")\n",
        "elif units>=200:\n",
        " print(\"add 15 % tex\")\n",
        "elif units>=500:\n",
        " print(\"add 25% tex\")\n",
        "else:\n",
        " print(\"no tex\")\n"
      ],
      "metadata": {
        "colab": {
          "base_uri": "https://localhost:8080/"
        },
        "id": "KbPoRy-fcYB0",
        "outputId": "78f27acb-541d-46f7-a080-78e65d03fac9"
      },
      "execution_count": 44,
      "outputs": [
        {
          "output_type": "stream",
          "name": "stdout",
          "text": [
            "enter your unite number100\n",
            "add 10% tex\n"
          ]
        }
      ]
    },
    {
      "cell_type": "code",
      "source": [
        "# Enter a month number\n",
        "month = int(input(\"Enter a month (1-12): \"))\n",
        "if month == 2:\n",
        "    print(\"28 days ,non leap year\")\n",
        "elif month in [4, 6, 9, 11]:\n",
        "    print(\"30 days\")\n",
        "elif month in [1, 3, 5, 7, 8, 10, 12]:\n",
        "    print(\"31 days\")\n",
        "else:\n",
        "    print(\"Invalid month. Please enter a number between 1 and 12.\")\n",
        "\n"
      ],
      "metadata": {
        "colab": {
          "base_uri": "https://localhost:8080/"
        },
        "id": "er6tKXwWlCSM",
        "outputId": "ad7354af-a874-4ab7-bca3-d6aa0f233d71"
      },
      "execution_count": 53,
      "outputs": [
        {
          "output_type": "stream",
          "name": "stdout",
          "text": [
            "Enter a month (1-12): 1\n",
            "31 days\n"
          ]
        }
      ]
    },
    {
      "cell_type": "code",
      "source": [
        "# Enter a year\n",
        "year = int(input(\"Enter a year: \"))\n",
        "if year % 4 == 0:\n",
        "    if year % 100 == 0:\n",
        "        if year % 400 == 0:\n",
        "            print(f\"{year} is a Leap Year.\")\n",
        "        else:\n",
        "            print(f\"{year} is not a Leap Year.\")\n",
        "    else:\n",
        "        print(f\"{year} is a Leap Year.\")\n",
        "else:\n",
        "    print(f\"{year} is not a Leap Year.\")\n"
      ],
      "metadata": {
        "colab": {
          "base_uri": "https://localhost:8080/"
        },
        "id": "5yb_-XO9qqhV",
        "outputId": "69d00860-8695-4950-cc79-0efd012630c1"
      },
      "execution_count": 55,
      "outputs": [
        {
          "output_type": "stream",
          "name": "stdout",
          "text": [
            "Enter a year: 400\n",
            "400 is a Leap Year.\n"
          ]
        }
      ]
    }
  ]
}