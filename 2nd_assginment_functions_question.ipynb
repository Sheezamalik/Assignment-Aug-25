{
  "cells": [
    {
      "cell_type": "markdown",
      "metadata": {
        "id": "view-in-github",
        "colab_type": "text"
      },
      "source": [
        "<a href=\"https://colab.research.google.com/github/Sheezamalik/Assignment-Aug-25/blob/main/2nd_assginment_functions_question.ipynb\" target=\"_parent\"><img src=\"https://colab.research.google.com/assets/colab-badge.svg\" alt=\"Open In Colab\"/></a>"
      ]
    },
    {
      "cell_type": "markdown",
      "metadata": {
        "id": "3O0_LBaHk1PW"
      },
      "source": [
        "2ND ASSHINMENT (QUATER 1)\n"
      ]
    },
    {
      "cell_type": "code",
      "execution_count": null,
      "metadata": {
        "colab": {
          "base_uri": "https://localhost:8080/"
        },
        "id": "92CA6tbLoywg",
        "outputId": "8ec483cd-0bc0-43df-e661-aef0f9253c8a"
      },
      "outputs": [
        {
          "output_type": "stream",
          "name": "stdout",
          "text": [
            "Enter a number4\n",
            "4 is Even.\n"
          ]
        }
      ],
      "source": [
        "def number_properties():\n",
        "    num = int(input(\"Enter a number\"))\n",
        "    if num % 2 == 0:\n",
        "        print(f\"{num} is Even.\")\n",
        "    else:\n",
        "        print(f\"{num} is Odd.\")\n",
        "\n",
        "# Call the function\n",
        "number_properties()"
      ]
    },
    {
      "cell_type": "code",
      "execution_count": null,
      "metadata": {
        "colab": {
          "base_uri": "https://localhost:8080/"
        },
        "id": "5lxgYtIcs-6d",
        "outputId": "25012001-8660-4131-e1c6-04e2b9e7b6fd"
      },
      "outputs": [
        {
          "output_type": "stream",
          "name": "stdout",
          "text": [
            "Enter a number1\n",
            "1 is Positive.\n"
          ]
        }
      ],
      "source": [
        "#check number positive negative or odd\n",
        "def number_properties():\n",
        "    num = int(input(\"Enter a number\"))\n",
        "    if num > 0:\n",
        "        print(f\"{num} is Positive.\")\n",
        "    elif num < 0:\n",
        "        print(f\"{num} is Negative.\")\n",
        "    else:\n",
        "       print(f\"{num} is zero\")\n",
        "\n",
        "       #funtion calling\n",
        "number_properties()"
      ]
    },
    {
      "cell_type": "code",
      "source": [
        "#devisible by both 2 and 3\n",
        "number = int(input(\"Enter a number\"))\n",
        "def number_properties(num):\n",
        " if num % 2 == 0:\n",
        "  print(f\"the number {num} is divisible by 2\")\n",
        " elif num % 3 == 0:\n",
        "  print(f\"the number {num} is divisible by 3\")\n",
        " else:\n",
        "  print(f\"the number is not divisible by 2 and 3\")\n",
        "#funtion calling\n",
        "number_properties(6)\n",
        "number_properties(7)\n"
      ],
      "metadata": {
        "colab": {
          "base_uri": "https://localhost:8080/"
        },
        "id": "n8O6fuSMxPH-",
        "outputId": "f63c9ee6-33e3-4cf0-fd31-2f240680d988"
      },
      "execution_count": 20,
      "outputs": [
        {
          "output_type": "stream",
          "name": "stdout",
          "text": [
            "Enter a number7\n",
            "the number 6 is divisible by 2\n",
            "the number is not divisible by 2 and 3\n"
          ]
        }
      ]
    },
    {
      "cell_type": "code",
      "source": [
        "#age nationaliy for vote\n",
        "def checking_eligibity_vote():\n",
        "  age = int(input(\"enter you age\"))\n",
        "  if age>=18:\n",
        "   nationality = input(\"do you have pakistani nationality, yes or not\")\n",
        "   if nationality == \"yes\":\n",
        "    print(\"you are eligible for vote\")\n",
        "   elif nationality == \"not\":\n",
        "    print(\"obtain your id card you are not eligible for vote\")\n",
        "  else:\n",
        "     print(\"you are note eligibe due to age\")\n",
        "#funtion calling\n",
        "checking_eligibity_vote()\n",
        "\n"
      ],
      "metadata": {
        "id": "nekyasALV6l8",
        "outputId": "3c483727-08fe-4c1b-b5b1-7ab18959a9a6",
        "colab": {
          "base_uri": "https://localhost:8080/"
        }
      },
      "execution_count": 23,
      "outputs": [
        {
          "output_type": "stream",
          "name": "stdout",
          "text": [
            "enter you age18\n",
            "do you have pakistani nationality, yes or notyes\n",
            "you are eligible for vote\n"
          ]
        }
      ]
    },
    {
      "cell_type": "code",
      "execution_count": 28,
      "metadata": {
        "colab": {
          "base_uri": "https://localhost:8080/"
        },
        "id": "nNWaBucqURai",
        "outputId": "70b424f7-634a-462e-bebc-98611dec0502"
      },
      "outputs": [
        {
          "output_type": "stream",
          "name": "stdout",
          "text": [
            "Enter your age: 59\n",
            "you are adult\n"
          ]
        }
      ],
      "source": [
        "# Determine age group\n",
        "def determine_age_group():\n",
        " age = int(input(\"Enter your age: \"))\n",
        " if age<=12:\n",
        "  print(\"you are child\")\n",
        " elif age<=19:\n",
        "    print(\"you are teenager\")\n",
        " elif age<=59:\n",
        "    print(\"you are adult\")\n",
        " elif age >=60:\n",
        "    print(\"you are senior citizen\")\n",
        " else:\n",
        "    print(\"invalid age\")\n",
        "#funtion calling\n",
        "determine_age_group()\n"
      ]
    },
    {
      "cell_type": "code",
      "execution_count": 30,
      "metadata": {
        "colab": {
          "base_uri": "https://localhost:8080/"
        },
        "id": "xveJUgbYYNKo",
        "outputId": "b77bf07c-0006-4824-da05-85e6ff2cf91b"
      },
      "outputs": [
        {
          "output_type": "stream",
          "name": "stdout",
          "text": [
            "enter your marks50\n",
            "you grade d\n",
            "enter your marks80\n",
            "your grade A\n"
          ]
        }
      ],
      "source": [
        "#evalutes the grades of student\n",
        "def evaluate_grade(marks):\n",
        " marks = int(input(\"enter your marks\"))\n",
        " if marks>=80:\n",
        "  print(\"your grade A\")\n",
        " elif marks>=70:\n",
        "  print(\"your grade  b\")\n",
        " elif marks>=60:\n",
        "    print(\"you grade c\")\n",
        " elif marks>=50:\n",
        "   print(\"you grade d\")\n",
        " else:\n",
        "    print(\"you grade f\")\n",
        "#funtion calling\n",
        "evaluate_grade(50)\n",
        "evaluate_grade(80)"
      ]
    },
    {
      "cell_type": "code",
      "execution_count": 31,
      "metadata": {
        "colab": {
          "base_uri": "https://localhost:8080/"
        },
        "id": "KbPoRy-fcYB0",
        "outputId": "e90b67fe-bd6f-4b45-c723-fcba4dac247e"
      },
      "outputs": [
        {
          "output_type": "stream",
          "name": "stdout",
          "text": [
            "enter your unite number200\n",
            "add 10% tex\n",
            "enter your unite number400\n",
            "add 10% tex\n",
            "enter your unite number500\n",
            "add 10% tex\n"
          ]
        }
      ],
      "source": [
        "#bill calculate by units consumer number\n",
        "def calculate_bill(units):\n",
        " units = int (input(\"enter your unite number\"))\n",
        " if units >=100:\n",
        "  print(\"add 10% tex\")\n",
        " elif units>=200:\n",
        "  print(\"add 15 % tex\")\n",
        " elif units>=500:\n",
        "  print(\"add 25% tex\")\n",
        " else:\n",
        "  print(\"no tex\")\n",
        "#funtion calling\n",
        "calculate_bill(100)\n",
        "calculate_bill(200)\n",
        "calculate_bill(500)"
      ]
    },
    {
      "cell_type": "code",
      "source": [
        "#enter a month\n",
        "def days_in_month(month):\n",
        "    if month == 2:\n",
        "        print(\"28 days (non-leap year)\")\n",
        "    elif month in [4, 6, 9, 11]:\n",
        "        print(\"30 days\")\n",
        "    elif month in [1, 3, 5, 7, 8, 10, 12]:\n",
        "        print(\"31 days\")\n",
        "    else:\n",
        "        print(\"Invalid month. Please enter a number between 1 and 12.\")\n",
        "#funtion calling\n",
        "days_in_month(2)\n",
        "days_in_month(4)\n",
        "days_in_month(12)\n",
        "\n"
      ],
      "metadata": {
        "id": "eZ-V_o05eK9X",
        "outputId": "8154bf94-82b8-4094-ea1a-908c388ad69a",
        "colab": {
          "base_uri": "https://localhost:8080/"
        }
      },
      "execution_count": 34,
      "outputs": [
        {
          "output_type": "stream",
          "name": "stdout",
          "text": [
            "28 days (non-leap year)\n",
            "30 days\n",
            "31 days\n"
          ]
        }
      ]
    },
    {
      "cell_type": "code",
      "source": [
        "#check year lesp year or not\n",
        "def is_leap_year(year):\n",
        "    if year % 4 == 0:\n",
        "        if year % 100 == 0:\n",
        "            if year % 400 == 0:\n",
        "                print(f\"{year} is a Leap Year.\")\n",
        "            else:\n",
        "                print(f\"{year} is not a Leap Year.\")\n",
        "        else:\n",
        "            print(f\"{year} is a Leap Year.\")\n",
        "    else:\n",
        "        print(f\"{year} is not a Leap Year.\")\n",
        "#funtion callig\n",
        "is_leap_year(2023)\n",
        "is_leap_year(2024)"
      ],
      "metadata": {
        "id": "YVJsPnOKh_pt",
        "outputId": "11777fb5-63f6-420f-bcb1-f1f0dfdcfcdd",
        "colab": {
          "base_uri": "https://localhost:8080/"
        }
      },
      "execution_count": 35,
      "outputs": [
        {
          "output_type": "stream",
          "name": "stdout",
          "text": [
            "2023 is not a Leap Year.\n",
            "2024 is a Leap Year.\n"
          ]
        }
      ]
    }
  ],
  "metadata": {
    "colab": {
      "provenance": [],
      "authorship_tag": "ABX9TyNkgEl/w+E/GwDzOB+z3LFD",
      "include_colab_link": true
    },
    "kernelspec": {
      "display_name": "Python 3",
      "name": "python3"
    },
    "language_info": {
      "name": "python"
    }
  },
  "nbformat": 4,
  "nbformat_minor": 0
}